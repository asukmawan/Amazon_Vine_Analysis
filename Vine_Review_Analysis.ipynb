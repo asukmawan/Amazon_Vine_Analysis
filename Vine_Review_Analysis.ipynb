{
  "nbformat": 4,
  "nbformat_minor": 0,
  "metadata": {
    "colab": {
      "name": "Vine_Review_Analysis.ipynb",
      "provenance": [],
      "collapsed_sections": []
    },
    "kernelspec": {
      "name": "python3",
      "display_name": "Python 3"
    }
  },
  "cells": [
    {
      "cell_type": "code",
      "metadata": {
        "colab": {
          "base_uri": "https://localhost:8080/"
        },
        "id": "NqS9jLv1FNYo",
        "outputId": "ac6bad6c-fa9b-4978-f85a-2924c7074d51"
      },
      "source": [
        "import os\r\n",
        "# Find the latest version of spark 3.0  from http://www-us.apache.org/dist/spark/ and enter as the spark version\r\n",
        "# For example:\r\n",
        "# spark_version = 'spark-3.0.2'\r\n",
        "spark_version = 'spark-3.0.2'\r\n",
        "os.environ['SPARK_VERSION']=spark_version\r\n",
        "\r\n",
        "# Install Spark and Java\r\n",
        "!apt-get update\r\n",
        "!apt-get install openjdk-11-jdk-headless -qq > /dev/null\r\n",
        "!wget -q http://www-us.apache.org/dist/spark/$SPARK_VERSION/$SPARK_VERSION-bin-hadoop2.7.tgz\r\n",
        "!tar xf $SPARK_VERSION-bin-hadoop2.7.tgz\r\n",
        "!pip install -q findspark\r\n",
        "\r\n",
        "# Set Environment Variables\r\n",
        "import os\r\n",
        "os.environ[\"JAVA_HOME\"] = \"/usr/lib/jvm/java-11-openjdk-amd64\"\r\n",
        "os.environ[\"SPARK_HOME\"] = f\"/content/{spark_version}-bin-hadoop2.7\"\r\n",
        "\r\n",
        "# Start a SparkSession\r\n",
        "import findspark\r\n",
        "findspark.init()"
      ],
      "execution_count": 1,
      "outputs": [
        {
          "output_type": "stream",
          "text": [
            "\r0% [Working]\r            \rIgn:1 https://developer.download.nvidia.com/compute/cuda/repos/ubuntu1804/x86_64  InRelease\n",
            "\r0% [Connecting to archive.ubuntu.com] [Connecting to security.ubuntu.com] [Conn\r                                                                               \rIgn:2 https://developer.download.nvidia.com/compute/machine-learning/repos/ubuntu1804/x86_64  InRelease\n",
            "\r0% [Connecting to archive.ubuntu.com (91.189.88.152)] [Connecting to security.u\r                                                                               \rHit:3 https://developer.download.nvidia.com/compute/cuda/repos/ubuntu1804/x86_64  Release\n",
            "\r0% [Connecting to archive.ubuntu.com (91.189.88.152)] [Connecting to security.u\r0% [Release.gpg gpgv 697 B] [Connecting to archive.ubuntu.com (91.189.88.152)] \r                                                                               \rHit:4 https://developer.download.nvidia.com/compute/machine-learning/repos/ubuntu1804/x86_64  Release\n",
            "Get:5 https://cloud.r-project.org/bin/linux/ubuntu bionic-cran40/ InRelease [3,626 B]\n",
            "Get:6 http://ppa.launchpad.net/c2d4u.team/c2d4u4.0+/ubuntu bionic InRelease [15.9 kB]\n",
            "Get:7 http://security.ubuntu.com/ubuntu bionic-security InRelease [88.7 kB]\n",
            "Hit:8 http://archive.ubuntu.com/ubuntu bionic InRelease\n",
            "Get:10 http://archive.ubuntu.com/ubuntu bionic-updates InRelease [88.7 kB]\n",
            "Hit:12 http://ppa.launchpad.net/cran/libgit2/ubuntu bionic InRelease\n",
            "Hit:13 http://ppa.launchpad.net/graphics-drivers/ppa/ubuntu bionic InRelease\n",
            "Get:14 http://archive.ubuntu.com/ubuntu bionic-backports InRelease [74.6 kB]\n",
            "Get:15 http://ppa.launchpad.net/c2d4u.team/c2d4u4.0+/ubuntu bionic/main Sources [1,733 kB]\n",
            "Get:16 http://security.ubuntu.com/ubuntu bionic-security/main amd64 Packages [1,929 kB]\n",
            "Get:17 http://archive.ubuntu.com/ubuntu bionic-updates/main amd64 Packages [2,360 kB]\n",
            "Get:18 http://security.ubuntu.com/ubuntu bionic-security/universe amd64 Packages [1,391 kB]\n",
            "Get:19 http://ppa.launchpad.net/c2d4u.team/c2d4u4.0+/ubuntu bionic/main amd64 Packages [887 kB]\n",
            "Get:20 http://archive.ubuntu.com/ubuntu bionic-updates/universe amd64 Packages [2,162 kB]\n",
            "Fetched 10.7 MB in 4s (2,981 kB/s)\n",
            "Reading package lists... Done\n"
          ],
          "name": "stdout"
        }
      ]
    },
    {
      "cell_type": "code",
      "metadata": {
        "id": "35fZ1AquFTSf"
      },
      "source": [
        "# Start Spark session\r\n",
        "from pyspark.sql import SparkSession\r\n",
        "spark = SparkSession.builder.appName(\"Vine_Review\").getOrCreate()"
      ],
      "execution_count": 2,
      "outputs": []
    },
    {
      "cell_type": "code",
      "metadata": {
        "colab": {
          "base_uri": "https://localhost:8080/"
        },
        "id": "hlEwVkiHGxAs",
        "outputId": "cd3673dd-5215-4f3f-d69e-f69f61f4ec26"
      },
      "source": [
        "from pyspark import SparkFiles\r\n",
        "url = \"https://s3.amazonaws.com/amazon-reviews-pds/tsv/amazon_reviews_us_Watches_v1_00.tsv.gz\"\r\n",
        "spark.sparkContext.addFile(url)\r\n",
        "df = spark.read.option(\"encoding\", \"UTF-8\").csv(SparkFiles.get(\"\"), sep=\"\\t\", header=True, inferSchema=True)\r\n",
        "df.show()"
      ],
      "execution_count": 3,
      "outputs": [
        {
          "output_type": "stream",
          "text": [
            "+-----------+-----------+--------------+----------+--------------+--------------------+----------------+-----------+-------------+-----------+----+-----------------+--------------------+--------------------+-----------+\n",
            "|marketplace|customer_id|     review_id|product_id|product_parent|       product_title|product_category|star_rating|helpful_votes|total_votes|vine|verified_purchase|     review_headline|         review_body|review_date|\n",
            "+-----------+-----------+--------------+----------+--------------+--------------------+----------------+-----------+-------------+-----------+----+-----------------+--------------------+--------------------+-----------+\n",
            "|         US|    3653882|R3O9SGZBVQBV76|B00FALQ1ZC|     937001370|Invicta Women's 1...|         Watches|          5|            0|          0|   N|                Y|          Five Stars|Absolutely love t...| 2015-08-31|\n",
            "|         US|   14661224| RKH8BNC3L5DLF|B00D3RGO20|     484010722|Kenneth Cole New ...|         Watches|          5|            0|          0|   N|                Y|I love thiswatch ...|I love this watch...| 2015-08-31|\n",
            "|         US|   27324930|R2HLE8WKZSU3NL|B00DKYC7TK|     361166390|Ritche 22mm Black...|         Watches|          2|            1|          1|   N|                Y|           Two Stars|           Scratches| 2015-08-31|\n",
            "|         US|    7211452|R31U3UH5AZ42LL|B000EQS1JW|     958035625|Citizen Men's BM8...|         Watches|          5|            0|          0|   N|                Y|          Five Stars|It works well on ...| 2015-08-31|\n",
            "|         US|   12733322|R2SV659OUJ945Y|B00A6GFD7S|     765328221|Orient ER27009B M...|         Watches|          4|            0|          0|   N|                Y|Beautiful face, b...|Beautiful watch f...| 2015-08-31|\n",
            "|         US|    6576411| RA51CP8TR5A2L|B00EYSOSE8|     230493695|Casio Men's GW-94...|         Watches|          5|            0|          0|   N|                Y|       No complaints|i love this watch...| 2015-08-31|\n",
            "|         US|   11811565| RB2Q7DLDN6TH6|B00WM0QA3M|     549298279|Fossil Women's ES...|         Watches|          5|            1|          1|   N|                Y|          Five Stars|for my wife and s...| 2015-08-31|\n",
            "|         US|   49401598|R2RHFJV0UYBK3Y|B00A4EYBR0|     844009113|INFANTRY Mens Nig...|         Watches|          1|            1|          5|   N|                N|I was about to bu...|I was about to bu...| 2015-08-31|\n",
            "|         US|   45925069|R2Z6JOQ94LFHEP|B00MAMPGGE|     263720892|G-Shock Men's Gre...|         Watches|          5|            1|          2|   N|                Y|      Perfect watch!|Watch is perfect....| 2015-08-31|\n",
            "|         US|   44751341| RX27XIIWY5JPB|B004LBPB7Q|     124278407|Heiden Quad Watch...|         Watches|          4|            0|          0|   N|                Y|Great quality and...|Great quality and...| 2015-08-31|\n",
            "|         US|    9962330|R15C7QEZT0LGZN|B00KGTVGKS|      28017857|Fossil Women's ES...|         Watches|          4|            2|          2|   N|                Y|           Satisfied|The watch was pre...| 2015-08-31|\n",
            "|         US|   16097204|R361XSS37V0NCZ|B0039UT5OU|     685450910|Casio General Men...|         Watches|          1|            0|          0|   N|                N|I do not think th...|I bought this wat...| 2015-08-31|\n",
            "|         US|   51330346| ROTNLALUAJAUB|B00MPF0XJQ|     767769082|2Tone Gold Silver...|         Watches|          3|            0|          0|   N|                Y|         Three Stars|It is a cheap wat...| 2015-08-31|\n",
            "|         US|    4201739|R2DYX7QU6BGOHR|B003P1OHHS|     648595227|Bulova Men's 98B1...|         Watches|          5|            0|          0|   N|                Y|          Five Stars|Heavier than i th...| 2015-08-31|\n",
            "|         US|   26339765| RWASY7FKI7QOT|B00R70YEOE|     457338020|Casio - G-Shock -...|         Watches|          5|            2|          3|   N|                Y|  Worth it - love it|Had it for severa...| 2015-08-31|\n",
            "|         US|    2692576|R2KKYZIN3CCL21|B000FVE3BG|     824370661|Invicta Men's 332...|         Watches|          5|            0|          0|   N|                Y|This is when diff...|This one is diffe...| 2015-08-31|\n",
            "|         US|   44713366|R22H4FGVD5O52O|B008X6JB12|     814431355|Seiko Women's SUT...|         Watches|          4|            1|          1|   N|                Y|Thewatch is attra...|The watch is attr...| 2015-08-31|\n",
            "|         US|   32778769|R11UACZERCM4ZY|B0040UOFPW|     187700878|Anne Klein Women'...|         Watches|          5|            0|          0|   N|                Y|          Five Stars|      said my wife..| 2015-08-31|\n",
            "|         US|   27258523|R1AT8NQ38UQOL6|B00UR2R5UY|     594315262|Guess U13630G1 Me...|         Watches|          5|            0|          0|   N|                Y|          Five Stars|Nice watch, on ti...| 2015-08-31|\n",
            "|         US|   42646538|R2NCZRQGIF1Q75|B00HFF57L0|     520810507|Nixon Men's Geo V...|         Watches|          4|            0|          0|   N|                Y|        Very stylish|Looks great and l...| 2015-08-31|\n",
            "+-----------+-----------+--------------+----------+--------------+--------------------+----------------+-----------+-------------+-----------+----+-----------------+--------------------+--------------------+-----------+\n",
            "only showing top 20 rows\n",
            "\n"
          ],
          "name": "stdout"
        }
      ]
    },
    {
      "cell_type": "code",
      "metadata": {
        "colab": {
          "base_uri": "https://localhost:8080/"
        },
        "id": "C4zyg1d1G5DX",
        "outputId": "a02085e3-ae77-41b7-a884-ca5e519fe1a1"
      },
      "source": [
        "# Create the vine_table. DataFrame\r\n",
        "vine_df = df.select([\"review_id\",\"star_rating\", \"helpful_votes\", \"total_votes\", \"vine\", \"verified_purchase\"])\r\n",
        "vine_df.show()"
      ],
      "execution_count": 4,
      "outputs": [
        {
          "output_type": "stream",
          "text": [
            "+--------------+-----------+-------------+-----------+----+-----------------+\n",
            "|     review_id|star_rating|helpful_votes|total_votes|vine|verified_purchase|\n",
            "+--------------+-----------+-------------+-----------+----+-----------------+\n",
            "|R3O9SGZBVQBV76|          5|            0|          0|   N|                Y|\n",
            "| RKH8BNC3L5DLF|          5|            0|          0|   N|                Y|\n",
            "|R2HLE8WKZSU3NL|          2|            1|          1|   N|                Y|\n",
            "|R31U3UH5AZ42LL|          5|            0|          0|   N|                Y|\n",
            "|R2SV659OUJ945Y|          4|            0|          0|   N|                Y|\n",
            "| RA51CP8TR5A2L|          5|            0|          0|   N|                Y|\n",
            "| RB2Q7DLDN6TH6|          5|            1|          1|   N|                Y|\n",
            "|R2RHFJV0UYBK3Y|          1|            1|          5|   N|                N|\n",
            "|R2Z6JOQ94LFHEP|          5|            1|          2|   N|                Y|\n",
            "| RX27XIIWY5JPB|          4|            0|          0|   N|                Y|\n",
            "|R15C7QEZT0LGZN|          4|            2|          2|   N|                Y|\n",
            "|R361XSS37V0NCZ|          1|            0|          0|   N|                N|\n",
            "| ROTNLALUAJAUB|          3|            0|          0|   N|                Y|\n",
            "|R2DYX7QU6BGOHR|          5|            0|          0|   N|                Y|\n",
            "| RWASY7FKI7QOT|          5|            2|          3|   N|                Y|\n",
            "|R2KKYZIN3CCL21|          5|            0|          0|   N|                Y|\n",
            "|R22H4FGVD5O52O|          4|            1|          1|   N|                Y|\n",
            "|R11UACZERCM4ZY|          5|            0|          0|   N|                Y|\n",
            "|R1AT8NQ38UQOL6|          5|            0|          0|   N|                Y|\n",
            "|R2NCZRQGIF1Q75|          4|            0|          0|   N|                Y|\n",
            "+--------------+-----------+-------------+-----------+----+-----------------+\n",
            "only showing top 20 rows\n",
            "\n"
          ],
          "name": "stdout"
        }
      ]
    },
    {
      "cell_type": "code",
      "metadata": {
        "colab": {
          "base_uri": "https://localhost:8080/"
        },
        "id": "3z6ysKSgG7yJ",
        "outputId": "9cdc6388-90d2-40a3-f9d1-cc486cbffdc0"
      },
      "source": [
        "# Filter where 'total_votes' is equal or greater than 20\r\n",
        "cleaned_df = vine_df.filter('total_votes>=20')\r\n",
        "cleaned_df.show()\r\n"
      ],
      "execution_count": 5,
      "outputs": [
        {
          "output_type": "stream",
          "text": [
            "+--------------+-----------+-------------+-----------+----+-----------------+\n",
            "|     review_id|star_rating|helpful_votes|total_votes|vine|verified_purchase|\n",
            "+--------------+-----------+-------------+-----------+----+-----------------+\n",
            "|R14W2VCHHK5V7W|          5|           19|         20|   N|                Y|\n",
            "|R1S3T57O3OYT5S|          5|           19|         20|   N|                Y|\n",
            "|R1BTWIBLYYVOV7|          5|           30|         30|   N|                Y|\n",
            "| R6F9VY91ADPLA|          1|            8|         30|   N|                N|\n",
            "|R3PXNV89DFIXKV|          5|           35|         37|   N|                Y|\n",
            "|R2ZF9NYVT3J7D6|          5|           19|         22|   N|                Y|\n",
            "|R20NYA5V0UF9NE|          5|           27|         28|   N|                Y|\n",
            "|R2X8FZRUOS8R8C|          4|           25|         26|   N|                Y|\n",
            "|R2D8IMBVX3XCLF|          1|           14|         20|   N|                Y|\n",
            "|R25UD9TA63L3Q8|          5|           25|         27|   N|                Y|\n",
            "|R2RB1HML8N712P|          5|           26|         28|   N|                Y|\n",
            "| ROXA8XP5EI2KK|          5|           48|         49|   N|                N|\n",
            "|R149IHTGGSRGX9|          5|           19|         20|   N|                Y|\n",
            "|R1B7M0OP3UNP6O|          5|           49|         52|   Y|                N|\n",
            "|R2N92CUM7WBA1A|          5|           27|         28|   N|                Y|\n",
            "|R2TAFZNG4KHFQB|          4|           24|         24|   N|                Y|\n",
            "| RNRFACS48ZE4A|          5|           21|         21|   N|                Y|\n",
            "|R2PO5QTLXJ9LHG|          5|           33|         46|   N|                N|\n",
            "|R38KDT041DRMIN|          5|           19|         24|   N|                Y|\n",
            "|R2MNPDWCA42I4G|          1|           17|         20|   N|                N|\n",
            "+--------------+-----------+-------------+-----------+----+-----------------+\n",
            "only showing top 20 rows\n",
            "\n"
          ],
          "name": "stdout"
        }
      ]
    },
    {
      "cell_type": "code",
      "metadata": {
        "colab": {
          "base_uri": "https://localhost:8080/"
        },
        "id": "aF5RxF-ItnyO",
        "outputId": "90e67e6d-495a-48b6-8d77-e8b0942f1f6e"
      },
      "source": [
        "# Filter values that have 'helpful_votes'/'total_votes' is equal or greater than 50%\r\n",
        "helpful_df = cleaned_df.withColumn('helpful_percentage', cleaned_df['helpful_votes']/cleaned_df['total_votes']).filter('helpful_percentage>=0.5')\r\n",
        "helpful_df.show()"
      ],
      "execution_count": 55,
      "outputs": [
        {
          "output_type": "stream",
          "text": [
            "+--------------+-----------+-------------+-----------+----+-----------------+------------------+\n",
            "|     review_id|star_rating|helpful_votes|total_votes|vine|verified_purchase|helpful_percentage|\n",
            "+--------------+-----------+-------------+-----------+----+-----------------+------------------+\n",
            "|R14W2VCHHK5V7W|          5|           19|         20|   N|                Y|              0.95|\n",
            "|R1S3T57O3OYT5S|          5|           19|         20|   N|                Y|              0.95|\n",
            "|R1BTWIBLYYVOV7|          5|           30|         30|   N|                Y|               1.0|\n",
            "|R3PXNV89DFIXKV|          5|           35|         37|   N|                Y|0.9459459459459459|\n",
            "|R2ZF9NYVT3J7D6|          5|           19|         22|   N|                Y|0.8636363636363636|\n",
            "|R20NYA5V0UF9NE|          5|           27|         28|   N|                Y|0.9642857142857143|\n",
            "|R2X8FZRUOS8R8C|          4|           25|         26|   N|                Y|0.9615384615384616|\n",
            "|R2D8IMBVX3XCLF|          1|           14|         20|   N|                Y|               0.7|\n",
            "|R25UD9TA63L3Q8|          5|           25|         27|   N|                Y|0.9259259259259259|\n",
            "|R2RB1HML8N712P|          5|           26|         28|   N|                Y|0.9285714285714286|\n",
            "| ROXA8XP5EI2KK|          5|           48|         49|   N|                N|0.9795918367346939|\n",
            "|R149IHTGGSRGX9|          5|           19|         20|   N|                Y|              0.95|\n",
            "|R1B7M0OP3UNP6O|          5|           49|         52|   Y|                N|0.9423076923076923|\n",
            "|R2N92CUM7WBA1A|          5|           27|         28|   N|                Y|0.9642857142857143|\n",
            "|R2TAFZNG4KHFQB|          4|           24|         24|   N|                Y|               1.0|\n",
            "| RNRFACS48ZE4A|          5|           21|         21|   N|                Y|               1.0|\n",
            "|R2PO5QTLXJ9LHG|          5|           33|         46|   N|                N| 0.717391304347826|\n",
            "|R38KDT041DRMIN|          5|           19|         24|   N|                Y|0.7916666666666666|\n",
            "|R2MNPDWCA42I4G|          1|           17|         20|   N|                N|              0.85|\n",
            "|R3F3KMKY26K620|          4|           25|         26|   N|                Y|0.9615384615384616|\n",
            "+--------------+-----------+-------------+-----------+----+-----------------+------------------+\n",
            "only showing top 20 rows\n",
            "\n"
          ],
          "name": "stdout"
        }
      ]
    },
    {
      "cell_type": "code",
      "metadata": {
        "colab": {
          "base_uri": "https://localhost:8080/"
        },
        "id": "wPqepbtT3Wd8",
        "outputId": "838cd035-1f6d-4c15-d618-a80569f60e54"
      },
      "source": [
        "# Filter rows where review was part of the vine program\r\n",
        "vine_yes_df = helpful_df.filter(helpful_df.vine == \"Y\")\r\n",
        "vine_yes_df.show()"
      ],
      "execution_count": 66,
      "outputs": [
        {
          "output_type": "stream",
          "text": [
            "+--------------+-----------+-------------+-----------+----+-----------------+------------------+\n",
            "|     review_id|star_rating|helpful_votes|total_votes|vine|verified_purchase|helpful_percentage|\n",
            "+--------------+-----------+-------------+-----------+----+-----------------+------------------+\n",
            "|R1B7M0OP3UNP6O|          5|           49|         52|   Y|                N|0.9423076923076923|\n",
            "|R2UUV4UGGYMQG8|          5|           34|         39|   Y|                N|0.8717948717948718|\n",
            "| R9K0LZV2BK9YY|          4|           37|         39|   Y|                N|0.9487179487179487|\n",
            "|R2OVFLNEUEGTJM|          3|           18|         25|   Y|                N|              0.72|\n",
            "| RBE09ELJ77LQ0|          5|           44|         45|   Y|                N|0.9777777777777777|\n",
            "|R3867T8AIJJHM6|          5|           26|         27|   Y|                N|0.9629629629629629|\n",
            "|R1FNVUXPU63WOZ|          4|           43|         48|   Y|                N|0.8958333333333334|\n",
            "|R25XGG2G12SE1Z|          4|           20|         23|   Y|                N|0.8695652173913043|\n",
            "| R3JKU4HRDFZDH|          4|           27|         30|   Y|                N|               0.9|\n",
            "|R2PQYOCJXRB1BF|          5|           26|         28|   Y|                N|0.9285714285714286|\n",
            "|R1JBQ8UBLA8N4X|          4|          349|        370|   Y|                N|0.9432432432432433|\n",
            "|R2I01ZYMO0GYP1|          4|          107|        121|   Y|                N|0.8842975206611571|\n",
            "|R297GF8EF7AXPO|          2|           22|         30|   Y|                N|0.7333333333333333|\n",
            "|R2OFG89WKPLHGU|          5|           54|         60|   Y|                N|               0.9|\n",
            "|R13PI8O4697CEV|          4|          135|        144|   Y|                N|            0.9375|\n",
            "|R223MX62JYWUOY|          4|           20|         21|   Y|                N|0.9523809523809523|\n",
            "| RTSXZ0HZF623M|          3|           13|         22|   Y|                N|0.5909090909090909|\n",
            "|R1OB4GCKEYGV9I|          4|           61|         90|   Y|                N|0.6777777777777778|\n",
            "|R1YBNRRUD5WCG4|          5|           15|         20|   Y|                N|              0.75|\n",
            "|R3L4Z6NK2Z4OV5|          2|           24|         33|   Y|                N|0.7272727272727273|\n",
            "+--------------+-----------+-------------+-----------+----+-----------------+------------------+\n",
            "only showing top 20 rows\n",
            "\n"
          ],
          "name": "stdout"
        }
      ]
    },
    {
      "cell_type": "code",
      "metadata": {
        "colab": {
          "base_uri": "https://localhost:8080/"
        },
        "id": "zGbLJc573in4",
        "outputId": "fa271121-52cd-45a0-e508-f7b09949cb84"
      },
      "source": [
        "# Filter rows where review was part of the vine program\r\n",
        "vine_no_df = helpful_df.filter(helpful_df.vine == \"N\")\r\n",
        "vine_no_df.show()"
      ],
      "execution_count": 68,
      "outputs": [
        {
          "output_type": "stream",
          "text": [
            "+--------------+-----------+-------------+-----------+----+-----------------+------------------+\n",
            "|     review_id|star_rating|helpful_votes|total_votes|vine|verified_purchase|helpful_percentage|\n",
            "+--------------+-----------+-------------+-----------+----+-----------------+------------------+\n",
            "|R14W2VCHHK5V7W|          5|           19|         20|   N|                Y|              0.95|\n",
            "|R1S3T57O3OYT5S|          5|           19|         20|   N|                Y|              0.95|\n",
            "|R1BTWIBLYYVOV7|          5|           30|         30|   N|                Y|               1.0|\n",
            "|R3PXNV89DFIXKV|          5|           35|         37|   N|                Y|0.9459459459459459|\n",
            "|R2ZF9NYVT3J7D6|          5|           19|         22|   N|                Y|0.8636363636363636|\n",
            "|R20NYA5V0UF9NE|          5|           27|         28|   N|                Y|0.9642857142857143|\n",
            "|R2X8FZRUOS8R8C|          4|           25|         26|   N|                Y|0.9615384615384616|\n",
            "|R2D8IMBVX3XCLF|          1|           14|         20|   N|                Y|               0.7|\n",
            "|R25UD9TA63L3Q8|          5|           25|         27|   N|                Y|0.9259259259259259|\n",
            "|R2RB1HML8N712P|          5|           26|         28|   N|                Y|0.9285714285714286|\n",
            "| ROXA8XP5EI2KK|          5|           48|         49|   N|                N|0.9795918367346939|\n",
            "|R149IHTGGSRGX9|          5|           19|         20|   N|                Y|              0.95|\n",
            "|R2N92CUM7WBA1A|          5|           27|         28|   N|                Y|0.9642857142857143|\n",
            "|R2TAFZNG4KHFQB|          4|           24|         24|   N|                Y|               1.0|\n",
            "| RNRFACS48ZE4A|          5|           21|         21|   N|                Y|               1.0|\n",
            "|R2PO5QTLXJ9LHG|          5|           33|         46|   N|                N| 0.717391304347826|\n",
            "|R38KDT041DRMIN|          5|           19|         24|   N|                Y|0.7916666666666666|\n",
            "|R2MNPDWCA42I4G|          1|           17|         20|   N|                N|              0.85|\n",
            "|R3F3KMKY26K620|          4|           25|         26|   N|                Y|0.9615384615384616|\n",
            "|R2PU32HT6X9DOM|          5|           23|         24|   N|                Y|0.9583333333333334|\n",
            "+--------------+-----------+-------------+-----------+----+-----------------+------------------+\n",
            "only showing top 20 rows\n",
            "\n"
          ],
          "name": "stdout"
        }
      ]
    },
    {
      "cell_type": "code",
      "metadata": {
        "colab": {
          "base_uri": "https://localhost:8080/"
        },
        "id": "krPKBkDp4VH_",
        "outputId": "3a928787-7dad-441b-f6ff-fcf598e50e0d"
      },
      "source": [
        "# Detemine the total number of reviews\r\n",
        "helpful_df.count()"
      ],
      "execution_count": 85,
      "outputs": [
        {
          "output_type": "execute_result",
          "data": {
            "text/plain": [
              "8409"
            ]
          },
          "metadata": {
            "tags": []
          },
          "execution_count": 85
        }
      ]
    },
    {
      "cell_type": "code",
      "metadata": {
        "colab": {
          "base_uri": "https://localhost:8080/"
        },
        "id": "4u-xq8to7NUr",
        "outputId": "3702e85b-dd13-4918-c657-da805c417bdc"
      },
      "source": [
        "# Detemine the total number of reviews - for paid vine reviews\r\n",
        "vine_yes_df.count()"
      ],
      "execution_count": 75,
      "outputs": [
        {
          "output_type": "execute_result",
          "data": {
            "text/plain": [
              "47"
            ]
          },
          "metadata": {
            "tags": []
          },
          "execution_count": 75
        }
      ]
    },
    {
      "cell_type": "code",
      "metadata": {
        "colab": {
          "base_uri": "https://localhost:8080/"
        },
        "id": "GZOS6ILG7T7Z",
        "outputId": "e3580ce4-1a01-4c68-ccb5-3acfe1d171c6"
      },
      "source": [
        "# Detemine the total number of reviews - for unpaid reviews\r\n",
        "vine_no_df.count()"
      ],
      "execution_count": 76,
      "outputs": [
        {
          "output_type": "execute_result",
          "data": {
            "text/plain": [
              "8362"
            ]
          },
          "metadata": {
            "tags": []
          },
          "execution_count": 76
        }
      ]
    },
    {
      "cell_type": "code",
      "metadata": {
        "colab": {
          "base_uri": "https://localhost:8080/"
        },
        "id": "NkmNYniS585k",
        "outputId": "b2ff9d0b-fdba-47f1-df97-5ba147148946"
      },
      "source": [
        "# Determine the number of 5-star reviews\r\n",
        "helpful_df.filter(\"star_rating=5\").count()\r\n"
      ],
      "execution_count": 86,
      "outputs": [
        {
          "output_type": "execute_result",
          "data": {
            "text/plain": [
              "4347"
            ]
          },
          "metadata": {
            "tags": []
          },
          "execution_count": 86
        }
      ]
    },
    {
      "cell_type": "code",
      "metadata": {
        "colab": {
          "base_uri": "https://localhost:8080/"
        },
        "id": "fRm8P9mA7emU",
        "outputId": "086f97d6-ecf7-49b9-fa87-1d2fcc697079"
      },
      "source": [
        "# Determine the number of 5-star reviews - for paid vine reviews\r\n",
        "vine_yes_df.filter(\"star_rating=5\").count()"
      ],
      "execution_count": 77,
      "outputs": [
        {
          "output_type": "execute_result",
          "data": {
            "text/plain": [
              "15"
            ]
          },
          "metadata": {
            "tags": []
          },
          "execution_count": 77
        }
      ]
    },
    {
      "cell_type": "code",
      "metadata": {
        "colab": {
          "base_uri": "https://localhost:8080/"
        },
        "id": "MUV_qRee7gA3",
        "outputId": "d711965e-64c1-4bda-d98f-7f81b46d8f81"
      },
      "source": [
        "# Determine the number of 5-star reviews - for unpaid reviews\r\n",
        "vine_no_df.filter(\"star_rating=5\").count()"
      ],
      "execution_count": 78,
      "outputs": [
        {
          "output_type": "execute_result",
          "data": {
            "text/plain": [
              "4332"
            ]
          },
          "metadata": {
            "tags": []
          },
          "execution_count": 78
        }
      ]
    },
    {
      "cell_type": "code",
      "metadata": {
        "colab": {
          "base_uri": "https://localhost:8080/"
        },
        "id": "BH1ZsjrC4h9j",
        "outputId": "21d1d863-bcfc-4c02-b97e-5d26ac815be1"
      },
      "source": [
        "# Detemine the percentage of all 5-star reviews that are paid vine reviews\r\n",
        "five_star = helpful_df.filter(\"star_rating=5\").count()\r\n",
        "five_star_yes = vine_yes_df.filter(\"star_rating=5\").count()\r\n",
        "print((five_star_yes/five_star)*100)"
      ],
      "execution_count": 87,
      "outputs": [
        {
          "output_type": "stream",
          "text": [
            "0.3450655624568668\n"
          ],
          "name": "stdout"
        }
      ]
    },
    {
      "cell_type": "code",
      "metadata": {
        "colab": {
          "base_uri": "https://localhost:8080/"
        },
        "id": "uv8SMSGO6s5j",
        "outputId": "1b827668-fcc1-486e-b7e8-c867a3a18801"
      },
      "source": [
        "# Detemine the percentage of 5-star reviews - for unpaid reviews\r\n",
        "five_star_no = vine_no_df.filter(\"star_rating=5\").count()\r\n",
        "print((five_star_no/five_star)*100)"
      ],
      "execution_count": 88,
      "outputs": [
        {
          "output_type": "stream",
          "text": [
            "99.65493443754313\n"
          ],
          "name": "stdout"
        }
      ]
    }
  ]
}